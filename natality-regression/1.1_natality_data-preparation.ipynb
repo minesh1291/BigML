{
 "cells": [
  {
   "cell_type": "code",
   "execution_count": null,
   "metadata": {},
   "outputs": [],
   "source": [
    "# https://cloud.google.com/dataproc/docs/tutorials/bigquery-sparkml"
   ]
  },
  {
   "cell_type": "markdown",
   "metadata": {},
   "source": [
    "# Data Preparation"
   ]
  },
  {
   "cell_type": "code",
   "execution_count": null,
   "metadata": {},
   "outputs": [],
   "source": [
    "#!/usr/bin/env python\n",
    "\n",
    "# Copyright 2018 Google Inc. All Rights Reserved.\n",
    "#\n",
    "# Licensed under the Apache License, Version 2.0 (the \"License\");\n",
    "# you may not use this file except in compliance with the License.\n",
    "# You may obtain a copy of the License at\n",
    "#\n",
    "#     http://www.apache.org/licenses/LICENSE-2.0\n",
    "#\n",
    "# Unless required by applicable law or agreed to in writing, software\n",
    "# distributed under the License is distributed on an \"AS IS\" BASIS,\n",
    "# WITHOUT WARRANTIES OR CONDITIONS OF ANY KIND, either express or implied.\n",
    "# See the License for the specific language governing permissions and\n",
    "# limitations under the License.\n",
    "\n",
    "\n",
    "def run_natality_tutorial(override_values={}):\n",
    "    # [START bigquery_query_natality_tutorial]\n",
    "    \"\"\"Create a Google BigQuery linear regression input table.\n",
    "    In the code below, the following actions are taken:\n",
    "    * A new dataset is created \"natality_regression.\"\n",
    "    * A query is run against the public dataset,\n",
    "        bigquery-public-data.samples.natality, selecting only the data of\n",
    "        interest to the regression, the output of which is stored in a new\n",
    "        \"regression_input\" table.\n",
    "    * The output table is moved over the wire to the user's default project via\n",
    "        the built-in BigQuery Connector for Spark that bridges BigQuery and\n",
    "        Cloud Dataproc.\n",
    "    \"\"\"\n",
    "\n",
    "    from google.cloud import bigquery\n",
    "\n",
    "    # Create a new Google BigQuery client using Google Cloud Platform project\n",
    "    # defaults.\n",
    "    client = bigquery.Client()\n",
    "\n",
    "    # Prepare a reference to a new dataset for storing the query results.\n",
    "    dataset_id = 'natality_regression'\n",
    "    # [END bigquery_query_natality_tutorial]\n",
    "    # To facilitate testing, we replace values with alternatives\n",
    "    # provided by the testing harness.\n",
    "    dataset_id = override_values.get(\"dataset_id\", dataset_id)\n",
    "    # [START bigquery_query_natality_tutorial]\n",
    "\n",
    "    dataset = bigquery.Dataset(client.dataset(dataset_id))\n",
    "\n",
    "    # Create the new BigQuery dataset.\n",
    "    dataset = client.create_dataset(dataset)\n",
    "\n",
    "    # In the new BigQuery dataset, create a reference to a new table for\n",
    "    # storing the query results.\n",
    "    table_ref = dataset.table('regression_input')\n",
    "\n",
    "    # Configure the query job.\n",
    "    job_config = bigquery.QueryJobConfig()\n",
    "\n",
    "    # Set the destination table to the table reference created above.\n",
    "    job_config.destination = table_ref\n",
    "\n",
    "    # Set up a query in Standard SQL, which is the default for the BigQuery\n",
    "    # Python client library.\n",
    "    # The query selects the fields of interest.\n",
    "    query = \"\"\"\n",
    "        SELECT\n",
    "            weight_pounds, mother_age, father_age, gestation_weeks,\n",
    "            weight_gain_pounds, apgar_5min\n",
    "        FROM\n",
    "            `bigquery-public-data.samples.natality`\n",
    "        WHERE\n",
    "            weight_pounds IS NOT NULL\n",
    "            AND mother_age IS NOT NULL\n",
    "            AND father_age IS NOT NULL\n",
    "            AND gestation_weeks IS NOT NULL\n",
    "            AND weight_gain_pounds IS NOT NULL\n",
    "            AND apgar_5min IS NOT NULL\n",
    "    \"\"\"\n",
    "\n",
    "    # Run the query.\n",
    "    query_job = client.query(query, job_config=job_config)\n",
    "    query_job.result()  # Waits for the query to finish\n",
    "    # [END bigquery_query_natality_tutorial]\n",
    "\n",
    "\n",
    "if __name__ == '__main__':\n",
    "    run_natality_tutorial()"
   ]
  },
  {
   "cell_type": "code",
   "execution_count": null,
   "metadata": {},
   "outputs": [],
   "source": []
  },
  {
   "cell_type": "code",
   "execution_count": null,
   "metadata": {},
   "outputs": [],
   "source": []
  }
 ],
 "metadata": {
  "kernelspec": {
   "display_name": "Python 3",
   "language": "python",
   "name": "python3"
  },
  "language_info": {
   "codemirror_mode": {
    "name": "ipython",
    "version": 3
   },
   "file_extension": ".py",
   "mimetype": "text/x-python",
   "name": "python",
   "nbconvert_exporter": "python",
   "pygments_lexer": "ipython3",
   "version": "3.7.7"
  }
 },
 "nbformat": 4,
 "nbformat_minor": 4
}
