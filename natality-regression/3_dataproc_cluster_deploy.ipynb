{
 "cells": [
  {
   "cell_type": "code",
   "execution_count": 7,
   "metadata": {},
   "outputs": [
    {
     "name": "stdout",
     "output_type": "stream",
     "text": [
      "Waiting on operation [projects/my-kaggle-competitions/regions/us-central1/operations/fb3973c2-1dca-3575-b83b-40a8b3322210].\n",
      "Waiting for cluster creation operation...                                      \n",
      "\u001b[1;33mWARNING:\u001b[0m For PD-Standard without local SSDs, we strongly recommend provisioning 1TB or larger to ensure consistently high I/O performance. See https://cloud.google.com/compute/docs/disks/performance for information on disk I/O performance.\n",
      "Waiting for cluster creation operation...done.                                 \n",
      "Created [https://dataproc.googleapis.com/v1/projects/my-kaggle-competitions/regions/us-central1/clusters/cluster-5488] Cluster placed in zone [us-central1-f].\n"
     ]
    }
   ],
   "source": [
    "!gcloud dataproc clusters create cluster-5488 --region=us-central1 \\\n",
    "    --master-machine-type=n1-standard-2 \\\n",
    "    --master-boot-disk-size=50GB \\\n",
    "    --num-workers=2 \\\n",
    "    --worker-machine-type=n1-standard-2 \\\n",
    "    --worker-boot-disk-size=50GB \\\n",
    "    --scopes bigquery,cloud-platform"
   ]
  },
  {
   "cell_type": "code",
   "execution_count": 13,
   "metadata": {},
   "outputs": [
    {
     "name": "stdout",
     "output_type": "stream",
     "text": [
      "Waiting on operation [projects/my-kaggle-competitions/regions/us-central1/operations/c49f31cd-3751-3041-b649-2da454d2d161].\n",
      "Waiting for cluster deletion operation...done.                                 \n",
      "Deleted [https://dataproc.googleapis.com/v1/projects/my-kaggle-competitions/regions/us-central1/clusters/cluster-5488].\n"
     ]
    }
   ],
   "source": [
    "!gcloud dataproc clusters delete --quiet cluster-5488 --region=us-central1"
   ]
  }
 ],
 "metadata": {
  "kernelspec": {
   "display_name": "Python 3",
   "language": "python",
   "name": "python3"
  },
  "language_info": {
   "codemirror_mode": {
    "name": "ipython",
    "version": 3
   },
   "file_extension": ".py",
   "mimetype": "text/x-python",
   "name": "python",
   "nbconvert_exporter": "python",
   "pygments_lexer": "ipython3",
   "version": "3.7.7"
  }
 },
 "nbformat": 4,
 "nbformat_minor": 4
}
