{
 "cells": [
  {
   "cell_type": "code",
   "execution_count": null,
   "metadata": {},
   "outputs": [],
   "source": []
  },
  {
   "cell_type": "markdown",
   "metadata": {},
   "source": [
    "# Exploratory"
   ]
  },
  {
   "cell_type": "code",
   "execution_count": 1,
   "metadata": {},
   "outputs": [
    {
     "data": {
      "text/html": [
       "<div>\n",
       "<style scoped>\n",
       "    .dataframe tbody tr th:only-of-type {\n",
       "        vertical-align: middle;\n",
       "    }\n",
       "\n",
       "    .dataframe tbody tr th {\n",
       "        vertical-align: top;\n",
       "    }\n",
       "\n",
       "    .dataframe thead th {\n",
       "        text-align: right;\n",
       "    }\n",
       "</style>\n",
       "<table border=\"1\" class=\"dataframe\">\n",
       "  <thead>\n",
       "    <tr style=\"text-align: right;\">\n",
       "      <th></th>\n",
       "      <th>weight_pounds</th>\n",
       "      <th>is_male</th>\n",
       "      <th>mother_age</th>\n",
       "      <th>plurality</th>\n",
       "      <th>gestation_weeks</th>\n",
       "    </tr>\n",
       "  </thead>\n",
       "  <tbody>\n",
       "    <tr>\n",
       "      <th>0</th>\n",
       "      <td>7.936641</td>\n",
       "      <td>False</td>\n",
       "      <td>30</td>\n",
       "      <td>1</td>\n",
       "      <td>38</td>\n",
       "    </tr>\n",
       "    <tr>\n",
       "      <th>1</th>\n",
       "      <td>8.624484</td>\n",
       "      <td>True</td>\n",
       "      <td>34</td>\n",
       "      <td>1</td>\n",
       "      <td>39</td>\n",
       "    </tr>\n",
       "    <tr>\n",
       "      <th>2</th>\n",
       "      <td>6.937947</td>\n",
       "      <td>True</td>\n",
       "      <td>23</td>\n",
       "      <td>1</td>\n",
       "      <td>39</td>\n",
       "    </tr>\n",
       "    <tr>\n",
       "      <th>3</th>\n",
       "      <td>6.935743</td>\n",
       "      <td>True</td>\n",
       "      <td>18</td>\n",
       "      <td>1</td>\n",
       "      <td>39</td>\n",
       "    </tr>\n",
       "    <tr>\n",
       "      <th>4</th>\n",
       "      <td>8.318041</td>\n",
       "      <td>False</td>\n",
       "      <td>23</td>\n",
       "      <td>1</td>\n",
       "      <td>40</td>\n",
       "    </tr>\n",
       "  </tbody>\n",
       "</table>\n",
       "</div>"
      ],
      "text/plain": [
       "   weight_pounds  is_male  mother_age  plurality  gestation_weeks\n",
       "0       7.936641    False          30          1               38\n",
       "1       8.624484     True          34          1               39\n",
       "2       6.937947     True          23          1               39\n",
       "3       6.935743     True          18          1               39\n",
       "4       8.318041    False          23          1               40"
      ]
     },
     "execution_count": 1,
     "metadata": {},
     "output_type": "execute_result"
    }
   ],
   "source": [
    "query=\"\"\"\n",
    "SELECT\n",
    "  weight_pounds,\n",
    "  is_male,\n",
    "  mother_age,\n",
    "  plurality,\n",
    "  gestation_weeks\n",
    "FROM\n",
    "  publicdata.samples.natality\n",
    "WHERE year > 2000\n",
    "\"\"\"\n",
    "from google.cloud import bigquery\n",
    "df = bigquery.Client().query(query + \" LIMIT 100\").to_dataframe()\n",
    "df.head()"
   ]
  },
  {
   "cell_type": "code",
   "execution_count": 3,
   "metadata": {},
   "outputs": [
    {
     "data": {
      "image/png": "[encoded data removed]",
      "text/plain": [
       "<Figure size 432x288 with 1 Axes>"
      ]
     },
     "metadata": {
      "needs_background": "light"
     },
     "output_type": "display_data"
    }
   ],
   "source": [
    "def get_distinct_values(column_name):\n",
    "  sql = \"\"\"\n",
    "SELECT\n",
    "  {0},\n",
    "  COUNT(1) AS num_babies,\n",
    "  AVG(weight_pounds) AS avg_wt\n",
    "FROM\n",
    "  publicdata.samples.natality\n",
    "WHERE\n",
    "  year > 2000\n",
    "GROUP BY\n",
    "  {0}\n",
    "  \"\"\".format(column_name)\n",
    "  return bigquery.Client().query(sql).to_dataframe()\n",
    "\n",
    "df = get_distinct_values('is_male')\n",
    "df.plot(x='is_male', y='avg_wt', kind='bar');"
   ]
  },
  {
   "cell_type": "code",
   "execution_count": 4,
   "metadata": {},
   "outputs": [
    {
     "data": {
      "image/png": "[encoded data removed]",
      "text/plain": [
       "<Figure size 432x288 with 1 Axes>"
      ]
     },
     "metadata": {
      "needs_background": "light"
     },
     "output_type": "display_data"
    }
   ],
   "source": [
    "df = get_distinct_values('gestation_weeks')\n",
    "df = df.sort_values('gestation_weeks')\n",
    "df.plot(x='gestation_weeks', y='avg_wt', kind='bar');"
   ]
  },
  {
   "cell_type": "code",
   "execution_count": null,
   "metadata": {},
   "outputs": [],
   "source": [
    "# https://cloud.google.com/dataproc/docs/tutorials/bigquery-sparkml"
   ]
  },
  {
   "cell_type": "markdown",
   "metadata": {},
   "source": [
    "# Data Preparation"
   ]
  },
  {
   "cell_type": "code",
   "execution_count": null,
   "metadata": {},
   "outputs": [],
   "source": [
    "#!/usr/bin/env python\n",
    "\n",
    "# Copyright 2018 Google Inc. All Rights Reserved.\n",
    "#\n",
    "# Licensed under the Apache License, Version 2.0 (the \"License\");\n",
    "# you may not use this file except in compliance with the License.\n",
    "# You may obtain a copy of the License at\n",
    "#\n",
    "#     http://www.apache.org/licenses/LICENSE-2.0\n",
    "#\n",
    "# Unless required by applicable law or agreed to in writing, software\n",
    "# distributed under the License is distributed on an \"AS IS\" BASIS,\n",
    "# WITHOUT WARRANTIES OR CONDITIONS OF ANY KIND, either express or implied.\n",
    "# See the License for the specific language governing permissions and\n",
    "# limitations under the License.\n",
    "\n",
    "\n",
    "def run_natality_tutorial(override_values={}):\n",
    "    # [START bigquery_query_natality_tutorial]\n",
    "    \"\"\"Create a Google BigQuery linear regression input table.\n",
    "    In the code below, the following actions are taken:\n",
    "    * A new dataset is created \"natality_regression.\"\n",
    "    * A query is run against the public dataset,\n",
    "        bigquery-public-data.samples.natality, selecting only the data of\n",
    "        interest to the regression, the output of which is stored in a new\n",
    "        \"regression_input\" table.\n",
    "    * The output table is moved over the wire to the user's default project via\n",
    "        the built-in BigQuery Connector for Spark that bridges BigQuery and\n",
    "        Cloud Dataproc.\n",
    "    \"\"\"\n",
    "\n",
    "    from google.cloud import bigquery\n",
    "\n",
    "    # Create a new Google BigQuery client using Google Cloud Platform project\n",
    "    # defaults.\n",
    "    client = bigquery.Client()\n",
    "\n",
    "    # Prepare a reference to a new dataset for storing the query results.\n",
    "    dataset_id = 'natality_regression'\n",
    "    # [END bigquery_query_natality_tutorial]\n",
    "    # To facilitate testing, we replace values with alternatives\n",
    "    # provided by the testing harness.\n",
    "    dataset_id = override_values.get(\"dataset_id\", dataset_id)\n",
    "    # [START bigquery_query_natality_tutorial]\n",
    "\n",
    "    dataset = bigquery.Dataset(client.dataset(dataset_id))\n",
    "\n",
    "    # Create the new BigQuery dataset.\n",
    "    dataset = client.create_dataset(dataset)\n",
    "\n",
    "    # In the new BigQuery dataset, create a reference to a new table for\n",
    "    # storing the query results.\n",
    "    table_ref = dataset.table('regression_input')\n",
    "\n",
    "    # Configure the query job.\n",
    "    job_config = bigquery.QueryJobConfig()\n",
    "\n",
    "    # Set the destination table to the table reference created above.\n",
    "    job_config.destination = table_ref\n",
    "\n",
    "    # Set up a query in Standard SQL, which is the default for the BigQuery\n",
    "    # Python client library.\n",
    "    # The query selects the fields of interest.\n",
    "    query = \"\"\"\n",
    "        SELECT\n",
    "            weight_pounds, mother_age, father_age, gestation_weeks,\n",
    "            weight_gain_pounds, apgar_5min\n",
    "        FROM\n",
    "            `bigquery-public-data.samples.natality`\n",
    "        WHERE\n",
    "            weight_pounds IS NOT NULL\n",
    "            AND mother_age IS NOT NULL\n",
    "            AND father_age IS NOT NULL\n",
    "            AND gestation_weeks IS NOT NULL\n",
    "            AND weight_gain_pounds IS NOT NULL\n",
    "            AND apgar_5min IS NOT NULL\n",
    "    \"\"\"\n",
    "\n",
    "    # Run the query.\n",
    "    query_job = client.query(query, job_config=job_config)\n",
    "    query_job.result()  # Waits for the query to finish\n",
    "    # [END bigquery_query_natality_tutorial]\n",
    "\n",
    "\n",
    "if __name__ == '__main__':\n",
    "    run_natality_tutorial()"
   ]
  },
  {
   "cell_type": "markdown",
   "metadata": {},
   "source": [
    "# Model preparation script"
   ]
  },
  {
   "cell_type": "code",
   "execution_count": null,
   "metadata": {},
   "outputs": [],
   "source": [
    "# --jars=gs://spark-lib/bigquery/spark-bigquery-latest.jar"
   ]
  },
  {
   "cell_type": "code",
   "execution_count": 2,
   "metadata": {},
   "outputs": [
    {
     "name": "stdout",
     "output_type": "stream",
     "text": [
      "Overwriting natality_sparkml.py\n"
     ]
    }
   ],
   "source": [
    "%%writefile natality_sparkml.py\n",
    "\"\"\"Run a linear regression using Apache Spark ML.\n",
    "\n",
    "In the following PySpark (Spark Python API) code, we take the following actions:\n",
    "\n",
    "  * Load a previously created linear regression (BigQuery) input table\n",
    "    into our Cloud Dataproc Spark cluster as an RDD (Resilient\n",
    "    Distributed Dataset)\n",
    "  * Transform the RDD into a Spark Dataframe\n",
    "  * Vectorize the features on which the model will be trained\n",
    "  * Compute a linear regression using Spark ML\n",
    "\n",
    "\"\"\"\n",
    "\n",
    "from __future__ import print_function\n",
    "from pyspark.context import SparkContext\n",
    "from pyspark.ml.linalg import Vectors\n",
    "from pyspark.ml.regression import LinearRegression\n",
    "from pyspark.sql.session import SparkSession\n",
    "# The imports, above, allow us to access SparkML features specific to linear\n",
    "# regression as well as the Vectors types.\n",
    "\n",
    "\n",
    "# Define a function that collects the features of interest\n",
    "# (mother_age, father_age, and gestation_weeks) into a vector.\n",
    "# Package the vector in a tuple containing the label (`weight_pounds`) for that\n",
    "# row.\n",
    "def vector_from_inputs(r):\n",
    "  return (r[\"weight_pounds\"], Vectors.dense(float(r[\"mother_age\"]),\n",
    "                                            float(r[\"father_age\"]),\n",
    "                                            float(r[\"gestation_weeks\"]),\n",
    "                                            float(r[\"weight_gain_pounds\"]),\n",
    "                                            float(r[\"apgar_5min\"])))\n",
    "\n",
    "sc = SparkContext()\n",
    "spark = SparkSession(sc)\n",
    "\n",
    "# Read the data from BigQuery as a Spark Dataframe.\n",
    "natality_data = spark.read.format(\"bigquery\").option(\n",
    "    \"table\", \"natality_regression.regression_input\").load()\n",
    "# Create a view so that Spark SQL queries can be run against the data.\n",
    "natality_data.createOrReplaceTempView(\"natality\")\n",
    "\n",
    "# As a precaution, run a query in Spark SQL to ensure no NULL values exist.\n",
    "sql_query = \"\"\"\n",
    "SELECT *\n",
    "from natality\n",
    "where weight_pounds is not null\n",
    "and mother_age is not null\n",
    "and father_age is not null\n",
    "and gestation_weeks is not null\n",
    "\"\"\"\n",
    "clean_data = spark.sql(sql_query)\n",
    "\n",
    "# Create an input DataFrame for Spark ML using the above function.\n",
    "training_data = clean_data.rdd.map(vector_from_inputs).toDF([\"label\",\n",
    "                                                             \"features\"])\n",
    "training_data.cache()\n",
    "\n",
    "# Construct a new LinearRegression object and fit the training data.\n",
    "lr = LinearRegression(maxIter=5, regParam=0.2, solver=\"normal\")\n",
    "model = lr.fit(training_data)\n",
    "# Print the model summary.\n",
    "print(\"Coefficients:\" + str(model.coefficients))\n",
    "print(\"Intercept:\" + str(model.intercept))\n",
    "print(\"R^2:\" + str(model.summary.r2))\n",
    "model.summary.residuals.show()\n",
    "\n"
   ]
  },
  {
   "cell_type": "markdown",
   "metadata": {},
   "source": [
    "# Create Cluster"
   ]
  },
  {
   "cell_type": "code",
   "execution_count": 7,
   "metadata": {},
   "outputs": [
    {
     "name": "stdout",
     "output_type": "stream",
     "text": [
      "Waiting on operation [projects/my-kaggle-competitions/regions/us-central1/operations/fb3973c2-1dca-3575-b83b-40a8b3322210].\n",
      "Waiting for cluster creation operation...                                      \n",
      "\u001b[1;33mWARNING:\u001b[0m For PD-Standard without local SSDs, we strongly recommend provisioning 1TB or larger to ensure consistently high I/O performance. See https://cloud.google.com/compute/docs/disks/performance for information on disk I/O performance.\n",
      "Waiting for cluster creation operation...done.                                 \n",
      "Created [https://dataproc.googleapis.com/v1/projects/my-kaggle-competitions/regions/us-central1/clusters/cluster-5488] Cluster placed in zone [us-central1-f].\n"
     ]
    }
   ],
   "source": [
    "!gcloud dataproc clusters create cluster-5488 --region=us-central1 \\\n",
    "    --master-machine-type=n1-standard-2 \\\n",
    "    --master-boot-disk-size=50GB \\\n",
    "    --num-workers=2 \\\n",
    "    --worker-machine-type=n1-standard-2 \\\n",
    "    --worker-boot-disk-size=50GB \\\n",
    "    --scopes bigquery,cloud-platform"
   ]
  },
  {
   "cell_type": "code",
   "execution_count": 13,
   "metadata": {},
   "outputs": [
    {
     "name": "stdout",
     "output_type": "stream",
     "text": [
      "Waiting on operation [projects/my-kaggle-competitions/regions/us-central1/operations/c49f31cd-3751-3041-b649-2da454d2d161].\n",
      "Waiting for cluster deletion operation...done.                                 \n",
      "Deleted [https://dataproc.googleapis.com/v1/projects/my-kaggle-competitions/regions/us-central1/clusters/cluster-5488].\n"
     ]
    }
   ],
   "source": [
    "# do not run it yet!!\n",
    "!gcloud dataproc clusters delete --quiet cluster-5488 --region=us-central1"
   ]
  },
  {
   "cell_type": "markdown",
   "metadata": {},
   "source": [
    "# Submit Train Job"
   ]
  },
  {
   "cell_type": "code",
   "execution_count": 27,
   "metadata": {},
   "outputs": [],
   "source": [
    "PROJECT_NAME=\"<>\"\n",
    "myBucket=\"gs://<>/\"\n",
    "cluster_name=\"cluster-5488\"\n",
    "cluster_region=\"us-central1\""
   ]
  },
  {
   "cell_type": "code",
   "execution_count": null,
   "metadata": {},
   "outputs": [],
   "source": []
  },
  {
   "cell_type": "code",
   "execution_count": 24,
   "metadata": {},
   "outputs": [
    {
     "name": "stdout",
     "output_type": "stream",
     "text": [
      "Copying file://natality_sparkml.py [Content-Type=text/x-python]...\n",
      "/ [1 files][  2.5 KiB/  2.5 KiB]                                                \n",
      "Operation completed over 1 objects/2.5 KiB.                                      \n"
     ]
    }
   ],
   "source": [
    "!gsutil cp natality_sparkml.py $myBucket/natality/"
   ]
  },
  {
   "cell_type": "code",
   "execution_count": 25,
   "metadata": {},
   "outputs": [
    {
     "name": "stdout",
     "output_type": "stream",
     "text": [
      "gs://mkc_transfer/myWorkspace/bigML/natality/natality_sparkml.py\n"
     ]
    }
   ],
   "source": [
    "!gsutil ls $myBucket/natality/"
   ]
  },
  {
   "cell_type": "code",
   "execution_count": 15,
   "metadata": {},
   "outputs": [
    {
     "name": "stdout",
     "output_type": "stream",
     "text": [
      " 30.93 MiB  2020-04-27T17:12:34Z  gs://spark-lib/bigquery/spark-bigquery-latest.jar\n",
      "TOTAL: 1 objects, 32436661 bytes (30.93 MiB)\n"
     ]
    }
   ],
   "source": [
    "!gsutil ls -lh gs://spark-lib/bigquery/spark-bigquery-latest.jar"
   ]
  },
  {
   "cell_type": "markdown",
   "metadata": {},
   "source": [
    "## submit train job"
   ]
  },
  {
   "cell_type": "code",
   "execution_count": 28,
   "metadata": {},
   "outputs": [
    {
     "name": "stdout",
     "output_type": "stream",
     "text": [
      "Job [ad1b3ae44d124012ba2f1d22564c4f0b] submitted.\n",
      "Waiting for job output...\n",
      "20/06/08 22:47:09 INFO org.spark_project.jetty.util.log: Logging initialized @4244ms\n",
      "20/06/08 22:47:09 INFO org.spark_project.jetty.server.Server: jetty-9.3.z-SNAPSHOT, build timestamp: unknown, git hash: unknown\n",
      "20/06/08 22:47:09 INFO org.spark_project.jetty.server.Server: Started @4336ms\n",
      "20/06/08 22:47:09 INFO org.spark_project.jetty.server.AbstractConnector: Started ServerConnector@111afbd{HTTP/1.1,[http/1.1]}{0.0.0.0:4040}\n",
      "20/06/08 22:47:09 WARN org.apache.spark.scheduler.FairSchedulableBuilder: Fair Scheduler configuration file not found so jobs will be scheduled in FIFO order. To use fair scheduling, configure pools in fairscheduler.xml or set spark.scheduler.allocation.file to a file that contains the configuration.\n",
      "20/06/08 22:47:10 INFO org.apache.hadoop.yarn.client.RMProxy: Connecting to ResourceManager at cluster-5488-m/10.128.0.25:8032\n",
      "20/06/08 22:47:11 INFO org.apache.hadoop.yarn.client.AHSProxy: Connecting to Application History server at cluster-5488-m/10.128.0.25:10200\n",
      "20/06/08 22:47:14 INFO org.apache.hadoop.yarn.client.api.impl.YarnClientImpl: Submitted application application_1591656376995_0001\n",
      "20/06/08 22:47:24 INFO com.google.cloud.spark.bigquery.direct.DirectBigQueryRelation: Querying table my-kaggle-competitions.natality_regression.regression_input, parameters sent from Spark: requiredColumns=[weight_pounds,mother_age,father_age,gestation_weeks,weight_gain_pounds,apgar_5min], filters=[IsNotNull(weight_pounds),IsNotNull(mother_age),IsNotNull(father_age),IsNotNull(gestation_weeks)]\n",
      "20/06/08 22:47:24 INFO com.google.cloud.spark.bigquery.direct.DirectBigQueryRelation: Going to read from my-kaggle-competitions.natality_regression.regression_input columns=[weight_pounds, mother_age, father_age, gestation_weeks, weight_gain_pounds, apgar_5min], filter='(`father_age` IS NOT NULL AND `gestation_weeks` IS NOT NULL AND `mother_age` IS NOT NULL AND `weight_pounds` IS NOT NULL)'\n",
      "20/06/08 22:47:26 INFO com.google.cloud.spark.bigquery.direct.DirectBigQueryRelation: Created read session for table 'my-kaggle-competitions.natality_regression.regression_input': projects/my-kaggle-competitions/locations/us/sessions/CAISDENIYnQ2Nm9kV3c4QxoCamQaAml3GgJuYRoCb3MaAmluGgJqcRoCanIaAmlyGgJqYxoCb2o\n",
      "20/06/08 22:47:26 INFO com.google.cloud.spark.bigquery.direct.DirectBigQueryRelation: Requested 9 max partitions, but only received 4 from the BigQuery Storage API for session projects/my-kaggle-competitions/locations/us/sessions/CAISDENIYnQ2Nm9kV3c4QxoCamQaAml3GgJuYRoCb3MaAmluGgJqcRoCanIaAmlyGgJqYxoCb2o. Notice that the number of streams in actual may be lower than the requested number, depending on the amount parallelism that is reasonable for the table and the maximum amount of parallelism allowed by the system.\n",
      "20/06/08 23:02:07 INFO com.github.fommil.jni.JniLoader: successfully loaded /tmp/jniloader6097563781580007826netlib-native_system-linux-x86_64.so\n",
      "20/06/08 23:14:35 INFO com.github.fommil.jni.JniLoader: already loaded netlib-native_system-linux-x86_64.so\n",
      "Coefficients:[0.01666574544477423,-0.0029675198430991687,0.23571439262198124,0.002130020703155612,-0.00048577251995183765]\n",
      "Intercept:-2.26130329478\n",
      "R^2:0.295200578949\n",
      "+--------------------+\n",
      "|           residuals|\n",
      "+--------------------+\n",
      "|  0.6197967670040523|\n",
      "| -0.9671612706158506|\n",
      "|  -1.806433827795824|\n",
      "| -2.1381180135820417|\n",
      "|  1.6898190538295896|\n",
      "|  0.9109068491142978|\n",
      "| -0.5958576635747708|\n",
      "| -0.4719903744153022|\n",
      "| -0.5736943696214372|\n",
      "|-0.10143354653728487|\n",
      "|   0.404388509206564|\n",
      "|  2.2099306165439145|\n",
      "| -1.0674968314623987|\n",
      "| 0.25462660127661785|\n",
      "|-0.02770831944092...|\n",
      "| -0.8906268259902346|\n",
      "|  -0.555015829338747|\n",
      "| -0.5477303998430516|\n",
      "| -0.7157399935566424|\n",
      "| -0.7009808587859085|\n",
      "+--------------------+\n",
      "only showing top 20 rows\n",
      "\n",
      "20/06/08 23:15:26 INFO org.spark_project.jetty.server.AbstractConnector: Stopped Spark@111afbd{HTTP/1.1,[http/1.1]}{0.0.0.0:4040}\n",
      "Job [ad1b3ae44d124012ba2f1d22564c4f0b] finished successfully.\n",
      "done: true\n",
      "driverControlFilesUri: gs://dataproc-staging-us-central1-986649903191-tqtqa1dv/google-cloud-dataproc-metainfo/466e702d-2768-485c-b457-37fff9609dc3/jobs/ad1b3ae44d124012ba2f1d22564c4f0b/\n",
      "driverOutputResourceUri: gs://dataproc-staging-us-central1-986649903191-tqtqa1dv/google-cloud-dataproc-metainfo/466e702d-2768-485c-b457-37fff9609dc3/jobs/ad1b3ae44d124012ba2f1d22564c4f0b/driveroutput\n",
      "jobUuid: f7e0e6eb-9769-36aa-a8f7-c759b9f21fc7\n",
      "placement:\n",
      "  clusterName: cluster-5488\n",
      "  clusterUuid: 466e702d-2768-485c-b457-37fff9609dc3\n",
      "pysparkJob:\n",
      "  fileUris:\n",
      "  - gs://mkc_transfer/myWorkspace/bigML/natality/natality_sparkml.py\n",
      "  jarFileUris:\n",
      "  - gs://spark-lib/bigquery/spark-bigquery-latest.jar\n",
      "  mainPythonFileUri: gs://mkc_transfer/myWorkspace/bigML/natality/natality_sparkml.py\n",
      "reference:\n",
      "  jobId: ad1b3ae44d124012ba2f1d22564c4f0b\n",
      "  projectId: my-kaggle-competitions\n",
      "status:\n",
      "  state: DONE\n",
      "  stateStartTime: '2020-06-08T23:15:28.028Z'\n",
      "statusHistory:\n",
      "- state: PENDING\n",
      "  stateStartTime: '2020-06-08T22:45:30.211Z'\n",
      "- state: SETUP_DONE\n",
      "  stateStartTime: '2020-06-08T22:45:30.266Z'\n",
      "- details: Agent reported job success\n",
      "  state: RUNNING\n",
      "  stateStartTime: '2020-06-08T22:45:30.366Z'\n",
      "yarnApplications:\n",
      "- name: natality_sparkml.py\n",
      "  progress: 1.0\n",
      "  state: FINISHED\n",
      "  trackingUrl: http://cluster-5488-m:8088/proxy/application_1591656376995_0001/\n"
     ]
    }
   ],
   "source": [
    "!gcloud dataproc jobs submit pyspark $myBucket/natality/natality_sparkml.py \\\n",
    "    --cluster=$cluster_name \\\n",
    "    --region=$cluster_region \\\n",
    "    --files=$myBucket/natality/natality_sparkml.py \\\n",
    "    --jars=gs://spark-lib/bigquery/spark-bigquery-latest.jar"
   ]
  }
 ],
 "metadata": {
  "kernelspec": {
   "display_name": "Python 3",
   "language": "python",
   "name": "python3"
  },
  "language_info": {
   "codemirror_mode": {
    "name": "ipython",
    "version": 3
   },
   "file_extension": ".py",
   "mimetype": "text/x-python",
   "name": "python",
   "nbconvert_exporter": "python",
   "pygments_lexer": "ipython3",
   "version": "3.7.7"
  },
  "toc-autonumbering": true
 },
 "nbformat": 4,
 "nbformat_minor": 4
}
